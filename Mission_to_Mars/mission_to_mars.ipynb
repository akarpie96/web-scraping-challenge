{
 "cells": [
  {
   "cell_type": "code",
   "execution_count": 1,
   "metadata": {},
   "outputs": [],
   "source": [
    "from bs4 import BeautifulSoup\n",
    "import requests\n",
    "import pymongo\n",
    "import pandas as pd\n",
    "from splinter import Browser\n",
    "from webdriver_manager.chrome import ChromeDriverManager"
   ]
  },
  {
   "cell_type": "code",
   "execution_count": 2,
   "metadata": {},
   "outputs": [
    {
     "name": "stderr",
     "output_type": "stream",
     "text": [
      "[WDM] - ====== WebDriver manager ======\n",
      "[WDM] - Current google-chrome version is 89.0.4389\n",
      "[WDM] - Get LATEST driver version for 89.0.4389\n"
     ]
    },
    {
     "name": "stdout",
     "output_type": "stream",
     "text": [
      "\n",
      "\n"
     ]
    },
    {
     "name": "stderr",
     "output_type": "stream",
     "text": [
      "[WDM] - Driver [C:\\Users\\Aaron Karpie\\.wdm\\drivers\\chromedriver\\win32\\89.0.4389.23\\chromedriver.exe] found in cache\n"
     ]
    }
   ],
   "source": [
    "executable_path = {'executable_path': ChromeDriverManager().install()}\n",
    "browser = Browser('chrome', **executable_path, headless=False)"
   ]
  },
  {
   "cell_type": "code",
   "execution_count": 3,
   "metadata": {},
   "outputs": [],
   "source": [
    "url = 'https://mars.nasa.gov/news/?page=0&per_page=40&order=publish_date+desc%2Ccreated_at+desc&search=&category=19%2C165%2C184%2C204&blank_scope=Latest'\n",
    "browser.visit(url)"
   ]
  },
  {
   "cell_type": "markdown",
   "metadata": {},
   "source": [
    "# Nasa News "
   ]
  },
  {
   "cell_type": "code",
   "execution_count": 4,
   "metadata": {},
   "outputs": [],
   "source": [
    "html = browser.html\n",
    "    # Parse HTML with Beautiful Soup\n",
    "soup = BeautifulSoup(html, 'html.parser')"
   ]
  },
  {
   "cell_type": "code",
   "execution_count": 5,
   "metadata": {},
   "outputs": [
    {
     "data": {
      "text/plain": [
       "<ul class=\"item_list\"><li class=\"slide\"><div class=\"image_and_description_container\"><a href=\"/news/8892/another-first-perseverance-captures-the-sounds-of-driving-on-mars/\" target=\"_self\"><div class=\"rollover_description\"><div class=\"rollover_description_inner\">NASA’s newest rover recorded audio of itself crunching over the surface of the Red Planet, adding a whole new dimension to Mars exploration.</div><div class=\"overlay_arrow\"><img alt=\"More\" src=\"/assets/overlay-arrow.png\"/></div></div><div class=\"list_image\"><img alt=\"NASA’s Mars Perseverance rover acquired this image using its onboard Left Navigation Camera.\" src=\"/system/news_items/list_view_images/8892_PIA23729-Mars_Perseverance-320x240.jpg\"/></div><div class=\"bottom_gradient\"><div><h3>Another First: Perseverance Captures the Sounds of Driving on Mars</h3></div></div></a><div class=\"list_text\"><div class=\"list_date\">March 17, 2021</div><div class=\"content_title\"><a href=\"/news/8892/another-first-perseverance-captures-the-sounds-of-driving-on-mars/\" target=\"_self\">Another First: Perseverance Captures the Sounds of Driving on Mars</a></div><div class=\"article_teaser_body\">NASA’s newest rover recorded audio of itself crunching over the surface of the Red Planet, adding a whole new dimension to Mars exploration.</div></div></div></li><li class=\"slide\"><div class=\"image_and_description_container\"><a href=\"/news/8891/nasa-to-host-briefing-to-preview-first-mars-helicopter-flights/\" target=\"_self\"><div class=\"rollover_description\"><div class=\"rollover_description_inner\">Members of the projects will lay out the steps necessary before the helicopter attempts its historic test flights. </div><div class=\"overlay_arrow\"><img alt=\"More\" src=\"/assets/overlay-arrow.png\"/></div></div><div class=\"list_image\"><img alt=\"An illustration of NASA’s Ingenuity Helicopter on Mars. \" src=\"/system/news_items/list_view_images/8891_25117_PIA23720-320w.jpeg\"/></div><div class=\"bottom_gradient\"><div><h3>NASA to Host Briefing to Preview First Mars Helicopter Flights</h3></div></div></a><div class=\"list_text\"><div class=\"list_date\">March 17, 2021</div><div class=\"content_title\"><a href=\"/news/8891/nasa-to-host-briefing-to-preview-first-mars-helicopter-flights/\" target=\"_self\">NASA to Host Briefing to Preview First Mars Helicopter Flights</a></div><div class=\"article_teaser_body\">Members of the projects will lay out the steps necessary before the helicopter attempts its historic test flights. </div></div></div></li><li class=\"slide\"><div class=\"image_and_description_container\"><a href=\"/news/8888/new-study-challenges-long-held-theory-of-fate-of-mars-water/\" target=\"_self\"><div class=\"rollover_description\"><div class=\"rollover_description_inner\">The new science results indicate that a large quantity of the Red Planet’s water is trapped in its crust rather than having escaped into space.</div><div class=\"overlay_arrow\"><img alt=\"More\" src=\"/assets/overlay-arrow.png\"/></div></div><div class=\"list_image\"><img alt=\"This global view of Mars is composed of about 100 Viking Orbiter images.\" src=\"/system/news_items/list_view_images/8888_mars20130708-320x240.jpg\"/></div><div class=\"bottom_gradient\"><div><h3>New Study Challenges Long-Held Theory of Fate of Mars' Water</h3></div></div></a><div class=\"list_text\"><div class=\"list_date\">March 16, 2021</div><div class=\"content_title\"><a href=\"/news/8888/new-study-challenges-long-held-theory-of-fate-of-mars-water/\" target=\"_self\">New Study Challenges Long-Held Theory of Fate of Mars' Water</a></div><div class=\"article_teaser_body\">The new science results indicate that a large quantity of the Red Planet’s water is trapped in its crust rather than having escaped into space.</div></div></div></li><li class=\"slide\"><div class=\"image_and_description_container\"><a href=\"/news/8886/nasas-perseverance-mars-rover-mission-honors-navajo-language/\" target=\"_self\"><div class=\"rollover_description\"><div class=\"rollover_description_inner\">Working with the Navajo Nation, the rover team has named features on Mars with words from the Navajo language.</div><div class=\"overlay_arrow\"><img alt=\"More\" src=\"/assets/overlay-arrow.png\"/></div></div><div class=\"list_image\"><img alt=\"Canyon de Chelly National Monument (“Tséyi’” in Navajo) in Arizona is located on Navajo Nation land. Members of NASA’s Perseverance rover team, in collaboration with the Navajo Nation, has been naming features of scientific interest with words in the Navajo language. \" src=\"/system/news_items/list_view_images/8886_1-Canyon-de-Chelly-National-Monument-320x240.jpg\"/></div><div class=\"bottom_gradient\"><div><h3>NASA's Perseverance Mars Rover Mission Honors Navajo Language</h3></div></div></a><div class=\"list_text\"><div class=\"list_date\">March 11, 2021</div><div class=\"content_title\"><a href=\"/news/8886/nasas-perseverance-mars-rover-mission-honors-navajo-language/\" target=\"_self\">NASA's Perseverance Mars Rover Mission Honors Navajo Language</a></div><div class=\"article_teaser_body\">Working with the Navajo Nation, the rover team has named features on Mars with words from the Navajo language.</div></div></div></li><li class=\"slide\"><div class=\"image_and_description_container\"><a href=\"/news/8885/perseverance-rovers-supercam-science-instrument-delivers-first-results/\" target=\"_self\"><div class=\"rollover_description\"><div class=\"rollover_description_inner\">Data from the powerful science tool includes sounds of its laser zapping a rock in order to test what it’s made of.</div><div class=\"overlay_arrow\"><img alt=\"More\" src=\"/assets/overlay-arrow.png\"/></div></div><div class=\"list_image\"><img alt=\"Stitched together from five images, this mosaic shows the calibration target for the SuperCam instrument aboard NASA’s Perseverance rover on Mars. The component images were taken by SuperCam’s remote micro-imager (RMI).\" src=\"/system/news_items/list_view_images/8885_PIA24492_unannotated_Yeehgo_mosaic-320x240.jpg\"/></div><div class=\"bottom_gradient\"><div><h3>Perseverance Rover's SuperCam Science Instrument Delivers First Results</h3></div></div></a><div class=\"list_text\"><div class=\"list_date\">March 10, 2021</div><div class=\"content_title\"><a href=\"/news/8885/perseverance-rovers-supercam-science-instrument-delivers-first-results/\" target=\"_self\">Perseverance Rover's SuperCam Science Instrument Delivers First Results</a></div><div class=\"article_teaser_body\">Data from the powerful science tool includes sounds of its laser zapping a rock in order to test what it’s made of.</div></div></div></li><li class=\"slide\"><div class=\"image_and_description_container\"><a href=\"/news/8882/nasas-perseverance-drives-on-mars-terrain-for-first-time/\" target=\"_self\"><div class=\"rollover_description\"><div class=\"rollover_description_inner\">The first trek of the agency’s largest, most advanced rover yet on the Red Planet marks a major milestone before science operations get under way.</div><div class=\"overlay_arrow\"><img alt=\"More\" src=\"/assets/overlay-arrow.png\"/></div></div><div class=\"list_image\"><img alt=\"This image was taken during the first drive of NASA’s Perseverance rover on Mars on March 4, 2021. Perseverance landed on Feb. 18, 2021, and the team has been spending the weeks since landing checking out the rover to prepare for surface operations.\" src=\"/system/news_items/list_view_images/8882_PIA24487-320x240.jpg\"/></div><div class=\"bottom_gradient\"><div><h3>NASA's Perseverance Drives on Mars' Terrain for First Time</h3></div></div></a><div class=\"list_text\"><div class=\"list_date\">March  5, 2021</div><div class=\"content_title\"><a href=\"/news/8882/nasas-perseverance-drives-on-mars-terrain-for-first-time/\" target=\"_self\">NASA's Perseverance Drives on Mars' Terrain for First Time</a></div><div class=\"article_teaser_body\">The first trek of the agency’s largest, most advanced rover yet on the Red Planet marks a major milestone before science operations get under way.</div></div></div></li><li class=\"slide\"><div class=\"image_and_description_container\"><a href=\"/news/8881/media-telecon-materials-march-5-2021/\" target=\"_self\"><div class=\"rollover_description\"><div class=\"rollover_description_inner\">Mission team members are participating in a virtual teleconference to discuss milestones achieved so far since the Feb. 18 landing and those to come.</div><div class=\"overlay_arrow\"><img alt=\"More\" src=\"/assets/overlay-arrow.png\"/></div></div><div class=\"list_image\"><img alt=\"This image was taken during the first drive of NASA’s Perseverance rover on Mars on March 4, 2021. Perseverance landed on Feb. 18, 2021, and the team has been spending the weeks since landing checking out the rover to prepare for surface operations. This image was taken by the rover’s Navigation Cameras.\" src=\"/system/news_items/list_view_images/8881_PIA24485_K4_ZCAM_main_sol004_Delta_Remnant_unannotated-320x240.jpg\"/></div><div class=\"bottom_gradient\"><div><h3>Media Telecon Materials - March 5, 2021</h3></div></div></a><div class=\"list_text\"><div class=\"list_date\">March  5, 2021</div><div class=\"content_title\"><a href=\"/news/8881/media-telecon-materials-march-5-2021/\" target=\"_self\">Media Telecon Materials - March 5, 2021</a></div><div class=\"article_teaser_body\">Mission team members are participating in a virtual teleconference to discuss milestones achieved so far since the Feb. 18 landing and those to come.</div></div></div></li><li class=\"slide\"><div class=\"image_and_description_container\"><a href=\"/news/8880/nasa-awards-mars-ascent-propulsion-system-contract-for-sample-return/\" target=\"_self\"><div class=\"rollover_description\"><div class=\"rollover_description_inner\">The award moves NASA and ESA a step closer to realizing Mars Sample Return, an ambitious planetary exploration program that will build upon decades of science, knowledge, and experience.</div><div class=\"overlay_arrow\"><img alt=\"More\" src=\"/assets/overlay-arrow.png\"/></div></div><div class=\"list_image\"><img alt=\"Illustration of a rocket launching from Mars\" src=\"/system/news_items/list_view_images/8880_pia23496-320.jpg\"/></div><div class=\"bottom_gradient\"><div><h3>NASA Awards Mars Ascent Propulsion System Contract for Sample Return</h3></div></div></a><div class=\"list_text\"><div class=\"list_date\">March  4, 2021</div><div class=\"content_title\"><a href=\"/news/8880/nasa-awards-mars-ascent-propulsion-system-contract-for-sample-return/\" target=\"_self\">NASA Awards Mars Ascent Propulsion System Contract for Sample Return</a></div><div class=\"article_teaser_body\">The award moves NASA and ESA a step closer to realizing Mars Sample Return, an ambitious planetary exploration program that will build upon decades of science, knowledge, and experience.</div></div></div></li><li class=\"slide\"><div class=\"image_and_description_container\"><a href=\"/news/8878/nasa-to-provide-update-on-perseverance-firsts-since-mars-landing/\" target=\"_self\"><div class=\"rollover_description\"><div class=\"rollover_description_inner\">Mission team members are participating in a virtual teleconference to discuss milestones achieved so far since the Feb. 18 landing and those to come.</div><div class=\"overlay_arrow\"><img alt=\"More\" src=\"/assets/overlay-arrow.png\"/></div></div><div class=\"list_image\"><img alt=\"Perseverance's deck\" src=\"/system/news_items/list_view_images/8878_PIA24421-320.jpg\"/></div><div class=\"bottom_gradient\"><div><h3>NASA to Provide Update on Perseverance ‘Firsts' Since Mars Landing </h3></div></div></a><div class=\"list_text\"><div class=\"list_date\">March  3, 2021</div><div class=\"content_title\"><a href=\"/news/8878/nasa-to-provide-update-on-perseverance-firsts-since-mars-landing/\" target=\"_self\">NASA to Provide Update on Perseverance ‘Firsts' Since Mars Landing </a></div><div class=\"article_teaser_body\">Mission team members are participating in a virtual teleconference to discuss milestones achieved so far since the Feb. 18 landing and those to come.</div></div></div></li><li class=\"slide\"><div class=\"image_and_description_container\"><a href=\"/news/8875/testing-proves-its-worth-with-successful-mars-parachute-deployment/\" target=\"_self\"><div class=\"rollover_description\"><div class=\"rollover_description_inner\">The giant canopy that helped land Perseverance on Mars was tested here on Earth at NASA’s Wallops Flight Facility in Virginia.</div><div class=\"overlay_arrow\"><img alt=\"More\" src=\"/assets/overlay-arrow.png\"/></div></div><div class=\"list_image\"><img alt=\"footage of Perseverance's Feb. 18 touchdown on Mars \n",
       "\" src=\"/system/news_items/list_view_images/8875_PIA24431-decoder-ring-320x240.jpg\"/></div><div class=\"bottom_gradient\"><div><h3>Testing Proves Its Worth With Successful Mars Parachute Deployment</h3></div></div></a><div class=\"list_text\"><div class=\"list_date\">February 25, 2021</div><div class=\"content_title\"><a href=\"/news/8875/testing-proves-its-worth-with-successful-mars-parachute-deployment/\" target=\"_self\">Testing Proves Its Worth With Successful Mars Parachute Deployment</a></div><div class=\"article_teaser_body\">The giant canopy that helped land Perseverance on Mars was tested here on Earth at NASA’s Wallops Flight Facility in Virginia.</div></div></div></li><li class=\"slide\"><div class=\"image_and_description_container\"><a href=\"/news/8873/nasas-perseverance-rover-gives-high-definition-panoramic-view-of-landing-site/\" target=\"_self\"><div class=\"rollover_description\"><div class=\"rollover_description_inner\">A 360-degree panorama taken by the rover’s Mastcam-Z instrument will be discussed during a public video chat this Thursday.</div><div class=\"overlay_arrow\"><img alt=\"More\" src=\"/assets/overlay-arrow.png\"/></div></div><div class=\"list_image\"><img alt=\"A panoramic view of Mars taken at the location where the Perseverance rover landed. \" src=\"/system/news_items/list_view_images/8873_PIA2464-Perseverance_Sol3_Mastcam-Z_panorama-320x240.jpg\"/></div><div class=\"bottom_gradient\"><div><h3>NASA's Perseverance Rover Gives High-Definition Panoramic View of Landing Site</h3></div></div></a><div class=\"list_text\"><div class=\"list_date\">February 24, 2021</div><div class=\"content_title\"><a href=\"/news/8873/nasas-perseverance-rover-gives-high-definition-panoramic-view-of-landing-site/\" target=\"_self\">NASA's Perseverance Rover Gives High-Definition Panoramic View of Landing Site</a></div><div class=\"article_teaser_body\">A 360-degree panorama taken by the rover’s Mastcam-Z instrument will be discussed during a public video chat this Thursday.</div></div></div></li><li class=\"slide\"><div class=\"image_and_description_container\"><a href=\"/news/8872/nearly-11-million-names-of-earthlings-are-on-mars-perseverance/\" target=\"_self\"><div class=\"rollover_description\"><div class=\"rollover_description_inner\">When the Perseverance rover safely touched down on the Martian surface, inside Jezero Crater, on Feb. 18, 2021, it was also a safe landing for the nearly 11 million names on board.</div><div class=\"overlay_arrow\"><img alt=\"More\" src=\"/assets/overlay-arrow.png\"/></div></div><div class=\"list_image\"><img alt=\"Zoom into the millions of names on the Send Your Name to Mars microchip on Mars Perseverance. \" src=\"/system/news_items/list_view_images/8872_Perseverance_SYN_chip_on_Mars_320x180optimized_30ps.gif\"/></div><div class=\"bottom_gradient\"><div><h3>Nearly 11 Million Names of Earthlings are on Mars Perseverance</h3></div></div></a><div class=\"list_text\"><div class=\"list_date\">February 23, 2021</div><div class=\"content_title\"><a href=\"/news/8872/nearly-11-million-names-of-earthlings-are-on-mars-perseverance/\" target=\"_self\">Nearly 11 Million Names of Earthlings are on Mars Perseverance</a></div><div class=\"article_teaser_body\">When the Perseverance rover safely touched down on the Martian surface, inside Jezero Crater, on Feb. 18, 2021, it was also a safe landing for the nearly 11 million names on board.</div></div></div></li><li class=\"slide\"><div class=\"image_and_description_container\"><a href=\"/news/8870/nasas-mars-perseverance-rover-provides-front-row-seat-to-landing-first-audio-recording-of-red-planet/\" target=\"_self\"><div class=\"rollover_description\"><div class=\"rollover_description_inner\">The agency’s newest rover captured first-of-its kind footage of its Feb. 18 touchdown and has recorded audio of Martian wind.\n",
       "\n",
       "</div><div class=\"overlay_arrow\"><img alt=\"More\" src=\"/assets/overlay-arrow.png\"/></div></div><div class=\"list_image\"><img alt=\"Perseverance Navcams 360-Degree Panorama\" src=\"/system/news_items/list_view_images/8870_PIA24422-Navcam-08_N_LRGB_0002_RAS_0010052_CYL_S_UNCORCLJ01-stretched-v2.jpg\"/></div><div class=\"bottom_gradient\"><div><h3>NASA's Mars Perseverance Rover Provides Front-Row Seat to Landing, First Audio Recording of Red Planet </h3></div></div></a><div class=\"list_text\"><div class=\"list_date\">February 22, 2021</div><div class=\"content_title\"><a href=\"/news/8870/nasas-mars-perseverance-rover-provides-front-row-seat-to-landing-first-audio-recording-of-red-planet/\" target=\"_self\">NASA's Mars Perseverance Rover Provides Front-Row Seat to Landing, First Audio Recording of Red Planet </a></div><div class=\"article_teaser_body\">The agency’s newest rover captured first-of-its kind footage of its Feb. 18 touchdown and has recorded audio of Martian wind.\n",
       "\n",
       "</div></div></div></li><li class=\"slide\"><div class=\"image_and_description_container\"><a href=\"/news/8868/nasa-to-reveal-new-video-images-from-mars-perseverance-rover/\" target=\"_self\"><div class=\"rollover_description\"><div class=\"rollover_description_inner\">First-of-its kind footage from the agency’s newest rover will be presented during a briefing this morning.</div><div class=\"overlay_arrow\"><img alt=\"More\" src=\"/assets/overlay-arrow.png\"/></div></div><div class=\"list_image\"><img alt=\"Perseverance rover almost at Mars\" src=\"/system/news_items/list_view_images/8868_1-PIA24428-320.jpg\"/></div><div class=\"bottom_gradient\"><div><h3>NASA to Reveal New Video, Images From Mars Perseverance Rover</h3></div></div></a><div class=\"list_text\"><div class=\"list_date\">February 22, 2021</div><div class=\"content_title\"><a href=\"/news/8868/nasa-to-reveal-new-video-images-from-mars-perseverance-rover/\" target=\"_self\">NASA to Reveal New Video, Images From Mars Perseverance Rover</a></div><div class=\"article_teaser_body\">First-of-its kind footage from the agency’s newest rover will be presented during a briefing this morning.</div></div></div></li><li class=\"slide\"><div class=\"image_and_description_container\"><a href=\"/news/8867/nasas-mars-helicopter-reports-in/\" target=\"_self\"><div class=\"rollover_description\"><div class=\"rollover_description_inner\">The technology demonstration has phoned home from where it is attached to the belly of NASA’s Perseverance rover. </div><div class=\"overlay_arrow\"><img alt=\"More\" src=\"/assets/overlay-arrow.png\"/></div></div><div class=\"list_image\"><img alt=\"Illustration of NASA's Ingenuity Mars Helicopter stands on the Red Planet's surface\" src=\"/system/news_items/list_view_images/8867_PIA23720-320.jpg\"/></div><div class=\"bottom_gradient\"><div><h3>NASA's Mars Helicopter Reports In </h3></div></div></a><div class=\"list_text\"><div class=\"list_date\">February 20, 2021</div><div class=\"content_title\"><a href=\"/news/8867/nasas-mars-helicopter-reports-in/\" target=\"_self\">NASA's Mars Helicopter Reports In </a></div><div class=\"article_teaser_body\">The technology demonstration has phoned home from where it is attached to the belly of NASA’s Perseverance rover. </div></div></div></li><li class=\"slide\"><div class=\"image_and_description_container\"><a href=\"/news/8866/nasas-perseverance-rover-sends-sneak-peek-of-mars-landing/\" target=\"_self\"><div class=\"rollover_description\"><div class=\"rollover_description_inner\">The six-wheeled robot’s latest data since touching down yesterday include a hi-res image captured as the rover’s jetpack lowered it to the ground.</div><div class=\"overlay_arrow\"><img alt=\"More\" src=\"/assets/overlay-arrow.png\"/></div></div><div class=\"list_image\"><img alt=\"An image of the Perseverance rover as it touched down on Mars \" src=\"/system/news_items/list_view_images/8866_25609_1-PIA24428-320.jpg\"/></div><div class=\"bottom_gradient\"><div><h3>NASA's Perseverance Rover Sends Sneak Peek of Mars Landing</h3></div></div></a><div class=\"list_text\"><div class=\"list_date\">February 19, 2021</div><div class=\"content_title\"><a href=\"/news/8866/nasas-perseverance-rover-sends-sneak-peek-of-mars-landing/\" target=\"_self\">NASA's Perseverance Rover Sends Sneak Peek of Mars Landing</a></div><div class=\"article_teaser_body\">The six-wheeled robot’s latest data since touching down yesterday include a hi-res image captured as the rover’s jetpack lowered it to the ground.</div></div></div></li><li class=\"slide\"><div class=\"image_and_description_container\"><a href=\"/news/8865/touchdown-nasas-mars-perseverance-rover-safely-lands-on-red-planet/\" target=\"_self\"><div class=\"rollover_description\"><div class=\"rollover_description_inner\">The agency’s latest and most complex mission to the Red Planet has touched down at Jezero Crater. Now it’s time to begin testing the health of the rover.  </div><div class=\"overlay_arrow\"><img alt=\"More\" src=\"/assets/overlay-arrow.png\"/></div></div><div class=\"list_image\"><img alt=\"surface of Mars from Perseverance\" src=\"/system/news_items/list_view_images/8865_FLR_0000_0666952977_663ECM_T0010044AUT_04096_00_2I3J01-stretched.png\"/></div><div class=\"bottom_gradient\"><div><h3>Touchdown! NASA's Mars Perseverance Rover Safely Lands on Red Planet</h3></div></div></a><div class=\"list_text\"><div class=\"list_date\">February 18, 2021</div><div class=\"content_title\"><a href=\"/news/8865/touchdown-nasas-mars-perseverance-rover-safely-lands-on-red-planet/\" target=\"_self\">Touchdown! NASA's Mars Perseverance Rover Safely Lands on Red Planet</a></div><div class=\"article_teaser_body\">The agency’s latest and most complex mission to the Red Planet has touched down at Jezero Crater. Now it’s time to begin testing the health of the rover.  </div></div></div></li><li class=\"slide\"><div class=\"image_and_description_container\"><a href=\"/news/8863/searching-for-life-in-nasas-perseverance-mars-samples/\" target=\"_self\"><div class=\"rollover_description\"><div class=\"rollover_description_inner\">When the agency’s newest rover mission searches for fossilized microscopic life on the Red Planet, how will scientists know whether they’ve found it?</div><div class=\"overlay_arrow\"><img alt=\"More\" src=\"/assets/overlay-arrow.png\"/></div></div><div class=\"list_image\"><img alt=\"\" src=\"/system/news_items/list_view_images/8863_25593_PIA24240-320.jpg\"/></div><div class=\"bottom_gradient\"><div><h3>Searching for Life in NASA's Perseverance Mars Samples</h3></div></div></a><div class=\"list_text\"><div class=\"list_date\">February 17, 2021</div><div class=\"content_title\"><a href=\"/news/8863/searching-for-life-in-nasas-perseverance-mars-samples/\" target=\"_self\">Searching for Life in NASA's Perseverance Mars Samples</a></div><div class=\"article_teaser_body\">When the agency’s newest rover mission searches for fossilized microscopic life on the Red Planet, how will scientists know whether they’ve found it?</div></div></div></li><li class=\"slide\"><div class=\"image_and_description_container\"><a href=\"/news/8861/the-mars-relay-network-connects-us-to-nasas-martian-explorers/\" target=\"_self\"><div class=\"rollover_description\"><div class=\"rollover_description_inner\">A tightly choreographed dance between NASA’s Deep Space Network and Mars orbiters will keep the agency’s Perseverance in touch with Earth during landing and beyond.</div><div class=\"overlay_arrow\"><img alt=\"More\" src=\"/assets/overlay-arrow.png\"/></div></div><div class=\"list_image\"><img alt=\"Five spacecraft currently in orbit about the Red Planet make up the Mars Relay Network to transmit commands from Earth to surface missions and receive science data back from them. \" src=\"/system/news_items/list_view_images/8861_1C_mrn-comp-320x240.jpg\"/></div><div class=\"bottom_gradient\"><div><h3>The Mars Relay Network Connects Us to NASA's Martian Explorers</h3></div></div></a><div class=\"list_text\"><div class=\"list_date\">February 16, 2021</div><div class=\"content_title\"><a href=\"/news/8861/the-mars-relay-network-connects-us-to-nasas-martian-explorers/\" target=\"_self\">The Mars Relay Network Connects Us to NASA's Martian Explorers</a></div><div class=\"article_teaser_body\">A tightly choreographed dance between NASA’s Deep Space Network and Mars orbiters will keep the agency’s Perseverance in touch with Earth during landing and beyond.</div></div></div></li><li class=\"slide\"><div class=\"image_and_description_container\"><a href=\"/news/8860/nasas-next-mars-rover-is-ready-for-the-most-precise-landing-yet/\" target=\"_self\"><div class=\"rollover_description\"><div class=\"rollover_description_inner\">What to expect when the Mars 2020 Perseverance rover arrives at the Red Planet on Feb. 18, 2021.</div><div class=\"overlay_arrow\"><img alt=\"More\" src=\"/assets/overlay-arrow.png\"/></div></div><div class=\"list_image\"><img alt=\"The aeroshell containing NASA’s Perseverance rover guides itself towards the Martian surface as it descends through the atmosphere in this illustration. \" src=\"/system/news_items/list_view_images/8860_25446_05_GuidedEntry-320.jpg\"/></div><div class=\"bottom_gradient\"><div><h3>NASA's Next Mars Rover Is Ready for the Most Precise Landing Yet</h3></div></div></a><div class=\"list_text\"><div class=\"list_date\">February 16, 2021</div><div class=\"content_title\"><a href=\"/news/8860/nasas-next-mars-rover-is-ready-for-the-most-precise-landing-yet/\" target=\"_self\">NASA's Next Mars Rover Is Ready for the Most Precise Landing Yet</a></div><div class=\"article_teaser_body\">What to expect when the Mars 2020 Perseverance rover arrives at the Red Planet on Feb. 18, 2021.</div></div></div></li><li class=\"slide\"><div class=\"image_and_description_container\"><a href=\"/news/8859/sensors-prepare-to-collect-data-as-perseverance-enters-mars-atmosphere/\" target=\"_self\"><div class=\"rollover_description\"><div class=\"rollover_description_inner\">Technology will collect critical data about the harsh entry environment during Perseverance’s entry next Thursday.</div><div class=\"overlay_arrow\"><img alt=\"More\" src=\"/assets/overlay-arrow.png\"/></div></div><div class=\"list_image\"><img alt=\"MEDLI\" src=\"/system/news_items/list_view_images/8859_medli2_320x240.jpg\"/></div><div class=\"bottom_gradient\"><div><h3>Sensors Prepare to Collect Data as Perseverance Enters Mars' Atmosphere</h3></div></div></a><div class=\"list_text\"><div class=\"list_date\">February 12, 2021</div><div class=\"content_title\"><a href=\"/news/8859/sensors-prepare-to-collect-data-as-perseverance-enters-mars-atmosphere/\" target=\"_self\">Sensors Prepare to Collect Data as Perseverance Enters Mars' Atmosphere</a></div><div class=\"article_teaser_body\">Technology will collect critical data about the harsh entry environment during Perseverance’s entry next Thursday.</div></div></div></li><li class=\"slide\"><div class=\"image_and_description_container\"><a href=\"/news/8858/insight-is-meeting-the-challenge-of-winter-on-dusty-mars/\" target=\"_self\"><div class=\"rollover_description\"><div class=\"rollover_description_inner\">As dust collects on the solar panels and winter comes to Elysium Planitia, the team is following a plan to reduce science operations in order to keep the lander safe.</div><div class=\"overlay_arrow\"><img alt=\"More\" src=\"/assets/overlay-arrow.png\"/></div></div><div class=\"list_image\"><img alt=\"InSight on Mars\" src=\"/system/news_items/list_view_images/8858_25325_PIA22743-320.jpg\"/></div><div class=\"bottom_gradient\"><div><h3>InSight Is Meeting the Challenge of Winter on Dusty Mars</h3></div></div></a><div class=\"list_text\"><div class=\"list_date\">February 12, 2021</div><div class=\"content_title\"><a href=\"/news/8858/insight-is-meeting-the-challenge-of-winter-on-dusty-mars/\" target=\"_self\">InSight Is Meeting the Challenge of Winter on Dusty Mars</a></div><div class=\"article_teaser_body\">As dust collects on the solar panels and winter comes to Elysium Planitia, the team is following a plan to reduce science operations in order to keep the lander safe.</div></div></div></li><li class=\"slide\"><div class=\"image_and_description_container\"><a href=\"/news/8857/nasa-invites-public-to-share-thrill-of-mars-perseverance-rover-landing/\" target=\"_self\"><div class=\"rollover_description\"><div class=\"rollover_description_inner\">Mark your calendars for live landing commentary, news briefings, livestreamed Q&amp;As, virtual watch parties, student activities, and more.</div><div class=\"overlay_arrow\"><img alt=\"More\" src=\"/assets/overlay-arrow.png\"/></div></div><div class=\"list_image\"><img alt=\"descent stage\" src=\"/system/news_items/list_view_images/8857_25451_09_Touchdown-320.jpg\"/></div><div class=\"bottom_gradient\"><div><h3>NASA Invites Public to Share Thrill of Mars Perseverance Rover Landing</h3></div></div></a><div class=\"list_text\"><div class=\"list_date\">February 12, 2021</div><div class=\"content_title\"><a href=\"/news/8857/nasa-invites-public-to-share-thrill-of-mars-perseverance-rover-landing/\" target=\"_self\">NASA Invites Public to Share Thrill of Mars Perseverance Rover Landing</a></div><div class=\"article_teaser_body\">Mark your calendars for live landing commentary, news briefings, livestreamed Q&amp;As, virtual watch parties, student activities, and more.</div></div></div></li><li class=\"slide\"><div class=\"image_and_description_container\"><a href=\"/news/8852/tricky-terrain-helping-to-assure-a-safe-rover-landing/\" target=\"_self\"><div class=\"rollover_description\"><div class=\"rollover_description_inner\">How two new technologies will help Perseverance, NASA’s most sophisticated rover yet, touch down onto the surface of Mars this month.</div><div class=\"overlay_arrow\"><img alt=\"More\" src=\"/assets/overlay-arrow.png\"/></div></div><div class=\"list_image\"><img alt=\"diagram of rover landing on Mars\" src=\"/system/news_items/list_view_images/8852_Mars2020-Landing-Technique-320x240.jpg\"/></div><div class=\"bottom_gradient\"><div><h3>Tricky Terrain: Helping to Assure a Safe Rover Landing</h3></div></div></a><div class=\"list_text\"><div class=\"list_date\">February  8, 2021</div><div class=\"content_title\"><a href=\"/news/8852/tricky-terrain-helping-to-assure-a-safe-rover-landing/\" target=\"_self\">Tricky Terrain: Helping to Assure a Safe Rover Landing</a></div><div class=\"article_teaser_body\">How two new technologies will help Perseverance, NASA’s most sophisticated rover yet, touch down onto the surface of Mars this month.</div></div></div></li><li class=\"slide\"><div class=\"image_and_description_container\"><a href=\"/news/8851/where-should-future-astronauts-land-on-mars-follow-the-water/\" target=\"_self\"><div class=\"rollover_description\"><div class=\"rollover_description_inner\">A new NASA paper provides the most detailed map to date of near-surface water ice on the Red Planet.</div><div class=\"overlay_arrow\"><img alt=\"More\" src=\"/assets/overlay-arrow.png\"/></div></div><div class=\"list_image\"><img alt=\"astronauts on Mars\" src=\"/system/news_items/list_view_images/8851_25153_PIA24031-320x240.jpg\"/></div><div class=\"bottom_gradient\"><div><h3>Where Should Future Astronauts Land on Mars? Follow the Water</h3></div></div></a><div class=\"list_text\"><div class=\"list_date\">February  8, 2021</div><div class=\"content_title\"><a href=\"/news/8851/where-should-future-astronauts-land-on-mars-follow-the-water/\" target=\"_self\">Where Should Future Astronauts Land on Mars? Follow the Water</a></div><div class=\"article_teaser_body\">A new NASA paper provides the most detailed map to date of near-surface water ice on the Red Planet.</div></div></div></li><li class=\"slide\"><div class=\"image_and_description_container\"><a href=\"/news/8848/nasas-perseverance-pays-off-back-home/\" target=\"_self\"><div class=\"rollover_description\"><div class=\"rollover_description_inner\">Even as the Perseverance rover approaches Mars, technology on board is paying off on Earth.</div><div class=\"overlay_arrow\"><img alt=\"More\" src=\"/assets/overlay-arrow.png\"/></div></div><div class=\"list_image\"><img alt=\"A graphic illustrates new technologies created by the Mars exploration program\" src=\"/system/news_items/list_view_images/8848_spinoff-320.jpg\"/></div><div class=\"bottom_gradient\"><div><h3>NASA's Perseverance Pays Off Back Home</h3></div></div></a><div class=\"list_text\"><div class=\"list_date\">February  2, 2021</div><div class=\"content_title\"><a href=\"/news/8848/nasas-perseverance-pays-off-back-home/\" target=\"_self\">NASA's Perseverance Pays Off Back Home</a></div><div class=\"article_teaser_body\">Even as the Perseverance rover approaches Mars, technology on board is paying off on Earth.</div></div></div></li><li class=\"slide\"><div class=\"image_and_description_container\"><a href=\"/news/8846/could-the-surface-of-phobos-reveal-secrets-of-the-martian-past/\" target=\"_self\"><div class=\"rollover_description\"><div class=\"rollover_description_inner\">The Martian moon Phobos orbits through a stream of charged atoms and molecules that flow off the Red Planet’s atmosphere, new research shows.</div><div class=\"overlay_arrow\"><img alt=\"More\" src=\"/assets/overlay-arrow.png\"/></div></div><div class=\"list_image\"><img alt=\"Phobos moon\" src=\"/system/news_items/list_view_images/8846_Phobos-Mars-Moon-320x240.jpg\"/></div><div class=\"bottom_gradient\"><div><h3>Could the Surface of Phobos Reveal Secrets of the Martian Past?</h3></div></div></a><div class=\"list_text\"><div class=\"list_date\">February  1, 2021</div><div class=\"content_title\"><a href=\"/news/8846/could-the-surface-of-phobos-reveal-secrets-of-the-martian-past/\" target=\"_self\">Could the Surface of Phobos Reveal Secrets of the Martian Past?</a></div><div class=\"article_teaser_body\">The Martian moon Phobos orbits through a stream of charged atoms and molecules that flow off the Red Planet’s atmosphere, new research shows.</div></div></div></li><li class=\"slide\"><div class=\"image_and_description_container\"><a href=\"/news/8844/nasas-maven-continues-to-advance-mars-science-and-telecommunications-relay-efforts/\" target=\"_self\"><div class=\"rollover_description\"><div class=\"rollover_description_inner\">With a suite of new national and international spacecraft primed to explore the Red Planet after their arrival next month, NASA’s MAVEN mission is ready to provide support and continue its study of the Martian atmosphere.</div><div class=\"overlay_arrow\"><img alt=\"More\" src=\"/assets/overlay-arrow.png\"/></div></div><div class=\"list_image\"><img alt=\"This illustration shows the MAVEN spacecraft and the limb of Mars.\" src=\"/system/news_items/list_view_images/8844_mavenbeautyshotverticallimb-320x240.jpg\"/></div><div class=\"bottom_gradient\"><div><h3>NASA's MAVEN Continues to Advance Mars Science and Telecommunications Relay Efforts</h3></div></div></a><div class=\"list_text\"><div class=\"list_date\">January 28, 2021</div><div class=\"content_title\"><a href=\"/news/8844/nasas-maven-continues-to-advance-mars-science-and-telecommunications-relay-efforts/\" target=\"_self\">NASA's MAVEN Continues to Advance Mars Science and Telecommunications Relay Efforts</a></div><div class=\"article_teaser_body\">With a suite of new national and international spacecraft primed to explore the Red Planet after their arrival next month, NASA’s MAVEN mission is ready to provide support and continue its study of the Martian atmosphere.</div></div></div></li><li class=\"slide\"><div class=\"image_and_description_container\"><a href=\"/news/8843/nasas-perseverance-rover-22-days-from-mars-landing/\" target=\"_self\"><div class=\"rollover_description\"><div class=\"rollover_description_inner\">Seven minutes of harrowing descent to the Red Planet is in the not-so-distant future for the agency’s Mars 2020 mission.  </div><div class=\"overlay_arrow\"><img alt=\"More\" src=\"/assets/overlay-arrow.png\"/></div></div><div class=\"list_image\"><img alt=\"Stages of Perseverance landing\" src=\"/system/news_items/list_view_images/8843_1-PIA24265---EDL-Milestones-Unannotated-320x240.jpg\"/></div><div class=\"bottom_gradient\"><div><h3>NASA's Perseverance Rover 22 Days From Mars Landing</h3></div></div></a><div class=\"list_text\"><div class=\"list_date\">January 27, 2021</div><div class=\"content_title\"><a href=\"/news/8843/nasas-perseverance-rover-22-days-from-mars-landing/\" target=\"_self\">NASA's Perseverance Rover 22 Days From Mars Landing</a></div><div class=\"article_teaser_body\">Seven minutes of harrowing descent to the Red Planet is in the not-so-distant future for the agency’s Mars 2020 mission.  </div></div></div></li><li class=\"slide\"><div class=\"image_and_description_container\"><a href=\"/news/8840/6-things-to-know-about-nasas-mars-helicopter-on-its-way-to-mars/\" target=\"_self\"><div class=\"rollover_description\"><div class=\"rollover_description_inner\">Ingenuity, a technology experiment, is preparing to attempt the first powered, controlled flight on the Red Planet.</div><div class=\"overlay_arrow\"><img alt=\"More\" src=\"/assets/overlay-arrow.png\"/></div></div><div class=\"list_image\"><img alt=\"Video illustrating Mars Helicopter's mission\" src=\"/system/news_items/list_view_images/8840_Mars-Helicopter-Ingenuity-7secs-320.jpg\"/></div><div class=\"bottom_gradient\"><div><h3>6 Things to Know About NASA's Mars Helicopter on Its Way to Mars</h3></div></div></a><div class=\"list_text\"><div class=\"list_date\">January 21, 2021</div><div class=\"content_title\"><a href=\"/news/8840/6-things-to-know-about-nasas-mars-helicopter-on-its-way-to-mars/\" target=\"_self\">6 Things to Know About NASA's Mars Helicopter on Its Way to Mars</a></div><div class=\"article_teaser_body\">Ingenuity, a technology experiment, is preparing to attempt the first powered, controlled flight on the Red Planet.</div></div></div></li><li class=\"slide\"><div class=\"image_and_description_container\"><a href=\"/news/8837/nasa-to-host-virtual-briefing-on-february-perseverance-mars-rover-landing/\" target=\"_self\"><div class=\"rollover_description\"><div class=\"rollover_description_inner\">NASA leadership and members of the mission will discuss the agency’s latest rover, which touches down on the Red Planet on Feb. 18.</div><div class=\"overlay_arrow\"><img alt=\"More\" src=\"/assets/overlay-arrow.png\"/></div></div><div class=\"list_image\"><img alt=\"illustration of parachute\" src=\"/system/news_items/list_view_images/8837_06_Parachute_320x240.jpg\"/></div><div class=\"bottom_gradient\"><div><h3>NASA to Host Virtual Briefing on February Perseverance Mars Rover Landing</h3></div></div></a><div class=\"list_text\"><div class=\"list_date\">January 15, 2021</div><div class=\"content_title\"><a href=\"/news/8837/nasa-to-host-virtual-briefing-on-february-perseverance-mars-rover-landing/\" target=\"_self\">NASA to Host Virtual Briefing on February Perseverance Mars Rover Landing</a></div><div class=\"article_teaser_body\">NASA leadership and members of the mission will discuss the agency’s latest rover, which touches down on the Red Planet on Feb. 18.</div></div></div></li><li class=\"slide\"><div class=\"image_and_description_container\"><a href=\"/news/8836/nasa-insights-mole-ends-its-journey-on-mars/\" target=\"_self\"><div class=\"rollover_description\"><div class=\"rollover_description_inner\">The heat probe hasn’t been able to gain the friction it needs to dig, but the mission has been granted an extension to carry on with its other science.</div><div class=\"overlay_arrow\"><img alt=\"More\" src=\"/assets/overlay-arrow.png\"/></div></div><div class=\"list_image\"><img alt=\"Illustration of NASA's InSight lander on Mars\" src=\"/system/news_items/list_view_images/8836_insight-illustration-320.jpg\"/></div><div class=\"bottom_gradient\"><div><h3>NASA InSight's ‘Mole' Ends Its Journey on Mars</h3></div></div></a><div class=\"list_text\"><div class=\"list_date\">January 14, 2021</div><div class=\"content_title\"><a href=\"/news/8836/nasa-insights-mole-ends-its-journey-on-mars/\" target=\"_self\">NASA InSight's ‘Mole' Ends Its Journey on Mars</a></div><div class=\"article_teaser_body\">The heat probe hasn’t been able to gain the friction it needs to dig, but the mission has been granted an extension to carry on with its other science.</div></div></div></li><li class=\"slide\"><div class=\"image_and_description_container\"><a href=\"/news/8834/mars-2020-perseverance-rover-to-capture-sounds-from-the-red-planet/\" target=\"_self\"><div class=\"rollover_description\"><div class=\"rollover_description_inner\">Audio gathered by the mission may not sound quite the same on Mars as it would to our ears on Earth. A new interactive online experience lets you sample the difference.</div><div class=\"overlay_arrow\"><img alt=\"More\" src=\"/assets/overlay-arrow.png\"/></div></div><div class=\"list_image\"><img alt=\"Illustration of sound waves from Mars\" src=\"/system/news_items/list_view_images/8834_SoundsOfMars_NoText-320x240.jpg\"/></div><div class=\"bottom_gradient\"><div><h3>Mars 2020 Perseverance Rover to Capture Sounds From the Red Planet</h3></div></div></a><div class=\"list_text\"><div class=\"list_date\">January 13, 2021</div><div class=\"content_title\"><a href=\"/news/8834/mars-2020-perseverance-rover-to-capture-sounds-from-the-red-planet/\" target=\"_self\">Mars 2020 Perseverance Rover to Capture Sounds From the Red Planet</a></div><div class=\"article_teaser_body\">Audio gathered by the mission may not sound quite the same on Mars as it would to our ears on Earth. A new interactive online experience lets you sample the difference.</div></div></div></li><li class=\"slide\"><div class=\"image_and_description_container\"><a href=\"/news/8832/nasas-curiosity-rover-reaches-its-3000th-day-on-mars/\" target=\"_self\"><div class=\"rollover_description\"><div class=\"rollover_description_inner\">As the rover has continued to ascend Mount Sharp, it’s found distinctive benchlike rock formations.</div><div class=\"overlay_arrow\"><img alt=\"More\" src=\"/assets/overlay-arrow.png\"/></div></div><div class=\"list_image\"><img alt=\"Mars panorama\" src=\"/system/news_items/list_view_images/8832_25512_PIA24180-panorama-320x240.jpg\"/></div><div class=\"bottom_gradient\"><div><h3>NASA's Curiosity Rover Reaches Its 3,000th Day on Mars</h3></div></div></a><div class=\"list_text\"><div class=\"list_date\">January 12, 2021</div><div class=\"content_title\"><a href=\"/news/8832/nasas-curiosity-rover-reaches-its-3000th-day-on-mars/\" target=\"_self\">NASA's Curiosity Rover Reaches Its 3,000th Day on Mars</a></div><div class=\"article_teaser_body\">As the rover has continued to ascend Mount Sharp, it’s found distinctive benchlike rock formations.</div></div></div></li><li class=\"slide\"><div class=\"image_and_description_container\"><a href=\"/news/8830/celebrate-the-perseverance-rover-landing-with-nasas-student-challenge/\" target=\"_self\"><div class=\"rollover_description\"><div class=\"rollover_description_inner\">The rover touches down on the Red Planet next month, and students are invited to join the excitement by designing, building, and landing their own Mars mission. NASA can help.</div><div class=\"overlay_arrow\"><img alt=\"More\" src=\"/assets/overlay-arrow.png\"/></div></div><div class=\"list_image\"><img alt=\"Collage for mission to Mars\" src=\"/system/news_items/list_view_images/8830_C1-marsworkshop_web-320x240.jpg\"/></div><div class=\"bottom_gradient\"><div><h3>Celebrate the Perseverance Rover Landing With NASA's Student Challenge</h3></div></div></a><div class=\"list_text\"><div class=\"list_date\">January  8, 2021</div><div class=\"content_title\"><a href=\"/news/8830/celebrate-the-perseverance-rover-landing-with-nasas-student-challenge/\" target=\"_self\">Celebrate the Perseverance Rover Landing With NASA's Student Challenge</a></div><div class=\"article_teaser_body\">The rover touches down on the Red Planet next month, and students are invited to join the excitement by designing, building, and landing their own Mars mission. NASA can help.</div></div></div></li><li class=\"slide\"><div class=\"image_and_description_container\"><a href=\"/news/8829/nasa-extends-exploration-for-two-planetary-science-missions/\" target=\"_self\"><div class=\"rollover_description\"><div class=\"rollover_description_inner\">The missions – Juno and InSight – have each increased our understanding of our solar system, as well as spurred new sets of diverse questions.</div><div class=\"overlay_arrow\"><img alt=\"More\" src=\"/assets/overlay-arrow.png\"/></div></div><div class=\"list_image\"><img alt=\"InSight on Mars\" src=\"/system/news_items/list_view_images/8829_PIA22743-320x240.jpg\"/></div><div class=\"bottom_gradient\"><div><h3>NASA Extends Exploration for Two Planetary Science Missions</h3></div></div></a><div class=\"list_text\"><div class=\"list_date\">January  8, 2021</div><div class=\"content_title\"><a href=\"/news/8829/nasa-extends-exploration-for-two-planetary-science-missions/\" target=\"_self\">NASA Extends Exploration for Two Planetary Science Missions</a></div><div class=\"article_teaser_body\">The missions – Juno and InSight – have each increased our understanding of our solar system, as well as spurred new sets of diverse questions.</div></div></div></li><li class=\"slide\"><div class=\"image_and_description_container\"><a href=\"/news/8826/7-things-to-know-about-the-nasa-rover-about-to-land-on-mars/\" target=\"_self\"><div class=\"rollover_description\"><div class=\"rollover_description_inner\">The Mars 2020 Perseverance rover, which has started its approach to the Red Planet, will help answer the next logical question in Mars exploration.</div><div class=\"overlay_arrow\"><img alt=\"More\" src=\"/assets/overlay-arrow.png\"/></div></div><div class=\"list_image\"><img alt=\"Mars 2020 in a clean room\" src=\"/system/news_items/list_view_images/8826_c1-PIA23499_fig1-320.jpg\"/></div><div class=\"bottom_gradient\"><div><h3>7 Things to Know About the NASA Rover About to Land on Mars</h3></div></div></a><div class=\"list_text\"><div class=\"list_date\">January  6, 2021</div><div class=\"content_title\"><a href=\"/news/8826/7-things-to-know-about-the-nasa-rover-about-to-land-on-mars/\" target=\"_self\">7 Things to Know About the NASA Rover About to Land on Mars</a></div><div class=\"article_teaser_body\">The Mars 2020 Perseverance rover, which has started its approach to the Red Planet, will help answer the next logical question in Mars exploration.</div></div></div></li><li class=\"slide\"><div class=\"image_and_description_container\"><a href=\"/news/8822/a-martian-roundtrip-nasas-perseverance-rover-sample-tubes/\" target=\"_self\"><div class=\"rollover_description\"><div class=\"rollover_description_inner\">Marvels of engineering, the rover's sample tubes must be tough enough to safely bring Red Planet samples on the long journey back to Earth in immaculate condition. </div><div class=\"overlay_arrow\"><img alt=\"More\" src=\"/assets/overlay-arrow.png\"/></div></div><div class=\"list_image\"><img alt=\"A tray holding 39 sample tubes – each protected in a gold-colored sheath – is installed in NASA's Perseverance rover in this picture taken at the agency's Kennedy Space Center on May 21, 2020.\" src=\"/system/news_items/list_view_images/8822_1-PIA24304-CatScanMars-320x240.gif\"/></div><div class=\"bottom_gradient\"><div><h3>A Martian Roundtrip: NASA's Perseverance Rover Sample Tubes</h3></div></div></a><div class=\"list_text\"><div class=\"list_date\">December 22, 2020</div><div class=\"content_title\"><a href=\"/news/8822/a-martian-roundtrip-nasas-perseverance-rover-sample-tubes/\" target=\"_self\">A Martian Roundtrip: NASA's Perseverance Rover Sample Tubes</a></div><div class=\"article_teaser_body\">Marvels of engineering, the rover's sample tubes must be tough enough to safely bring Red Planet samples on the long journey back to Earth in immaculate condition. </div></div></div></li><li class=\"slide\"><div class=\"image_and_description_container\"><a href=\"/news/8819/nasa-moves-forward-with-campaign-to-return-mars-samples-to-earth/\" target=\"_self\"><div class=\"rollover_description\"><div class=\"rollover_description_inner\">During this next phase, the program will mature critical technologies and make critical design decisions as well as assess industry partnerships.</div><div class=\"overlay_arrow\"><img alt=\"More\" src=\"/assets/overlay-arrow.png\"/></div></div><div class=\"list_image\"><img alt=\"Illustration of Mars rover drilling\" src=\"/system/news_items/list_view_images/8819_24759_PIA23491-web.jpg\"/></div><div class=\"bottom_gradient\"><div><h3>NASA Moves Forward With Campaign to Return Mars Samples to Earth</h3></div></div></a><div class=\"list_text\"><div class=\"list_date\">December 17, 2020</div><div class=\"content_title\"><a href=\"/news/8819/nasa-moves-forward-with-campaign-to-return-mars-samples-to-earth/\" target=\"_self\">NASA Moves Forward With Campaign to Return Mars Samples to Earth</a></div><div class=\"article_teaser_body\">During this next phase, the program will mature critical technologies and make critical design decisions as well as assess industry partnerships.</div></div></div></li><li class=\"slide\"><div class=\"image_and_description_container\"><a href=\"/news/8817/3-things-weve-learned-from-nasas-mars-insight/\" target=\"_self\"><div class=\"rollover_description\"><div class=\"rollover_description_inner\">Scientists are finding new mysteries since the geophysics mission landed two years ago.</div><div class=\"overlay_arrow\"><img alt=\"More\" src=\"/assets/overlay-arrow.png\"/></div></div><div class=\"list_image\"><img alt=\"clouds over NASA Insight on Mars\" src=\"/system/news_items/list_view_images/8817_PIA23180_320.gif\"/></div><div class=\"bottom_gradient\"><div><h3>3 Things We've Learned From NASA's Mars InSight </h3></div></div></a><div class=\"list_text\"><div class=\"list_date\">December 16, 2020</div><div class=\"content_title\"><a href=\"/news/8817/3-things-weve-learned-from-nasas-mars-insight/\" target=\"_self\">3 Things We've Learned From NASA's Mars InSight </a></div><div class=\"article_teaser_body\">Scientists are finding new mysteries since the geophysics mission landed two years ago.</div></div></div></li></ul>"
      ]
     },
     "execution_count": 5,
     "metadata": {},
     "output_type": "execute_result"
    }
   ],
   "source": [
    "results = soup.find('ul', class_='item_list')\n",
    "results"
   ]
  },
  {
   "cell_type": "code",
   "execution_count": 6,
   "metadata": {},
   "outputs": [
    {
     "data": {
      "text/plain": [
       "'Another First: Perseverance Captures the Sounds of Driving on Mars'"
      ]
     },
     "execution_count": 6,
     "metadata": {},
     "output_type": "execute_result"
    }
   ],
   "source": [
    "results = results.find('div', class_='content_title').text\n",
    "news_title=results.strip()\n",
    "news_title"
   ]
  },
  {
   "cell_type": "code",
   "execution_count": 7,
   "metadata": {},
   "outputs": [
    {
     "name": "stdout",
     "output_type": "stream",
     "text": [
      "NASA’s newest rover recorded audio of itself crunching over the surface of the Red Planet, adding a whole new dimension to Mars exploration.\n"
     ]
    }
   ],
   "source": [
    "\n",
    "results_2=soup.find_all('div', class_='article_teaser_body')[0].text\n",
    "news_p=results_2.strip()\n",
    "print(news_p)"
   ]
  },
  {
   "cell_type": "code",
   "execution_count": 8,
   "metadata": {},
   "outputs": [],
   "source": [
    "browser.quit()"
   ]
  },
  {
   "cell_type": "markdown",
   "metadata": {},
   "source": [
    "# JPL Mars Space Image "
   ]
  },
  {
   "cell_type": "code",
   "execution_count": 9,
   "metadata": {
    "scrolled": true
   },
   "outputs": [
    {
     "name": "stderr",
     "output_type": "stream",
     "text": [
      "[WDM] - ====== WebDriver manager ======\n",
      "[WDM] - Current google-chrome version is 89.0.4389\n",
      "[WDM] - Get LATEST driver version for 89.0.4389\n"
     ]
    },
    {
     "name": "stdout",
     "output_type": "stream",
     "text": [
      "\n",
      "\n"
     ]
    },
    {
     "name": "stderr",
     "output_type": "stream",
     "text": [
      "[WDM] - Driver [C:\\Users\\Aaron Karpie\\.wdm\\drivers\\chromedriver\\win32\\89.0.4389.23\\chromedriver.exe] found in cache\n"
     ]
    }
   ],
   "source": [
    "executable_path = {'executable_path': ChromeDriverManager().install()}\n",
    "browser = Browser('chrome', **executable_path, headless=False)"
   ]
  },
  {
   "cell_type": "code",
   "execution_count": 10,
   "metadata": {},
   "outputs": [],
   "source": [
    "image_url=\"https://data-class-jpl-space.s3.amazonaws.com/JPL_Space/index.html\"\n",
    "# Retrieve page with the requests module\n",
    "browser.visit(image_url)"
   ]
  },
  {
   "cell_type": "code",
   "execution_count": 11,
   "metadata": {},
   "outputs": [],
   "source": [
    "short_image_url=\"https://data-class-jpl-space.s3.amazonaws.com/JPL_Space/\"\n",
    "html = browser.html\n",
    "    # Parse HTML with Beautiful Soup\n",
    "soup = BeautifulSoup(html, 'html.parser')"
   ]
  },
  {
   "cell_type": "code",
   "execution_count": 12,
   "metadata": {},
   "outputs": [
    {
     "data": {
      "text/plain": [
       "'image/featured/mars1.jpg'"
      ]
     },
     "execution_count": 12,
     "metadata": {},
     "output_type": "execute_result"
    }
   ],
   "source": [
    "target=soup.find_all('a', class_='showimg fancybox-thumbs')[0]\n",
    "target=target['href']\n",
    "target\n"
   ]
  },
  {
   "cell_type": "code",
   "execution_count": 13,
   "metadata": {},
   "outputs": [
    {
     "data": {
      "text/plain": [
       "'https://data-class-jpl-space.s3.amazonaws.com/JPL_Space/image/featured/mars1.jpg'"
      ]
     },
     "execution_count": 13,
     "metadata": {},
     "output_type": "execute_result"
    }
   ],
   "source": [
    "featured_image_url=short_image_url+target\n",
    "featured_image_url"
   ]
  },
  {
   "cell_type": "code",
   "execution_count": 14,
   "metadata": {},
   "outputs": [],
   "source": [
    "browser.quit()"
   ]
  },
  {
   "cell_type": "markdown",
   "metadata": {},
   "source": [
    "# Mars Facts"
   ]
  },
  {
   "cell_type": "code",
   "execution_count": 15,
   "metadata": {},
   "outputs": [],
   "source": [
    "table_url='https://space-facts.com/mars/'"
   ]
  },
  {
   "cell_type": "code",
   "execution_count": 16,
   "metadata": {},
   "outputs": [
    {
     "data": {
      "text/plain": [
       "[                      0                              1\n",
       " 0  Equatorial Diameter:                       6,792 km\n",
       " 1       Polar Diameter:                       6,752 km\n",
       " 2                 Mass:  6.39 × 10^23 kg (0.11 Earths)\n",
       " 3                Moons:            2 (Phobos & Deimos)\n",
       " 4       Orbit Distance:       227,943,824 km (1.38 AU)\n",
       " 5         Orbit Period:           687 days (1.9 years)\n",
       " 6  Surface Temperature:                   -87 to -5 °C\n",
       " 7         First Record:              2nd millennium BC\n",
       " 8          Recorded By:           Egyptian astronomers,\n",
       "   Mars - Earth Comparison             Mars            Earth\n",
       " 0               Diameter:         6,779 km        12,742 km\n",
       " 1                   Mass:  6.39 × 10^23 kg  5.97 × 10^24 kg\n",
       " 2                  Moons:                2                1\n",
       " 3      Distance from Sun:   227,943,824 km   149,598,262 km\n",
       " 4         Length of Year:   687 Earth days      365.24 days\n",
       " 5            Temperature:     -87 to -5 °C      -88 to 58°C,\n",
       "                       0                              1\n",
       " 0  Equatorial Diameter:                       6,792 km\n",
       " 1       Polar Diameter:                       6,752 km\n",
       " 2                 Mass:  6.39 × 10^23 kg (0.11 Earths)\n",
       " 3                Moons:            2 (Phobos & Deimos)\n",
       " 4       Orbit Distance:       227,943,824 km (1.38 AU)\n",
       " 5         Orbit Period:           687 days (1.9 years)\n",
       " 6  Surface Temperature:                   -87 to -5 °C\n",
       " 7         First Record:              2nd millennium BC\n",
       " 8          Recorded By:           Egyptian astronomers]"
      ]
     },
     "execution_count": 16,
     "metadata": {},
     "output_type": "execute_result"
    }
   ],
   "source": [
    "tables=pd.read_html(table_url)\n",
    "tables"
   ]
  },
  {
   "cell_type": "code",
   "execution_count": 17,
   "metadata": {},
   "outputs": [
    {
     "data": {
      "text/html": [
       "<div>\n",
       "<style scoped>\n",
       "    .dataframe tbody tr th:only-of-type {\n",
       "        vertical-align: middle;\n",
       "    }\n",
       "\n",
       "    .dataframe tbody tr th {\n",
       "        vertical-align: top;\n",
       "    }\n",
       "\n",
       "    .dataframe thead th {\n",
       "        text-align: right;\n",
       "    }\n",
       "</style>\n",
       "<table border=\"1\" class=\"dataframe\">\n",
       "  <thead>\n",
       "    <tr style=\"text-align: right;\">\n",
       "      <th></th>\n",
       "      <th>Facts</th>\n",
       "    </tr>\n",
       "    <tr>\n",
       "      <th>Label</th>\n",
       "      <th></th>\n",
       "    </tr>\n",
       "  </thead>\n",
       "  <tbody>\n",
       "    <tr>\n",
       "      <th>Equatorial Diameter:</th>\n",
       "      <td>6,792 km</td>\n",
       "    </tr>\n",
       "    <tr>\n",
       "      <th>Polar Diameter:</th>\n",
       "      <td>6,752 km</td>\n",
       "    </tr>\n",
       "    <tr>\n",
       "      <th>Mass:</th>\n",
       "      <td>6.39 × 10^23 kg (0.11 Earths)</td>\n",
       "    </tr>\n",
       "    <tr>\n",
       "      <th>Moons:</th>\n",
       "      <td>2 (Phobos &amp; Deimos)</td>\n",
       "    </tr>\n",
       "    <tr>\n",
       "      <th>Orbit Distance:</th>\n",
       "      <td>227,943,824 km (1.38 AU)</td>\n",
       "    </tr>\n",
       "    <tr>\n",
       "      <th>Orbit Period:</th>\n",
       "      <td>687 days (1.9 years)</td>\n",
       "    </tr>\n",
       "    <tr>\n",
       "      <th>Surface Temperature:</th>\n",
       "      <td>-87 to -5 °C</td>\n",
       "    </tr>\n",
       "    <tr>\n",
       "      <th>First Record:</th>\n",
       "      <td>2nd millennium BC</td>\n",
       "    </tr>\n",
       "    <tr>\n",
       "      <th>Recorded By:</th>\n",
       "      <td>Egyptian astronomers</td>\n",
       "    </tr>\n",
       "  </tbody>\n",
       "</table>\n",
       "</div>"
      ],
      "text/plain": [
       "                                              Facts\n",
       "Label                                              \n",
       "Equatorial Diameter:                       6,792 km\n",
       "Polar Diameter:                            6,752 km\n",
       "Mass:                 6.39 × 10^23 kg (0.11 Earths)\n",
       "Moons:                          2 (Phobos & Deimos)\n",
       "Orbit Distance:            227,943,824 km (1.38 AU)\n",
       "Orbit Period:                  687 days (1.9 years)\n",
       "Surface Temperature:                   -87 to -5 °C\n",
       "First Record:                     2nd millennium BC\n",
       "Recorded By:                   Egyptian astronomers"
      ]
     },
     "execution_count": 17,
     "metadata": {},
     "output_type": "execute_result"
    }
   ],
   "source": [
    "df=tables[0]\n",
    "df.rename(columns = {0:'Label',  \n",
    "                       1:'Facts'},  \n",
    "            inplace = True) \n",
    "df.set_index('Label')"
   ]
  },
  {
   "cell_type": "code",
   "execution_count": 18,
   "metadata": {},
   "outputs": [],
   "source": [
    "html_table = df.to_html()\n",
    "html_table\n",
    "df.to_html('table.html')"
   ]
  },
  {
   "cell_type": "markdown",
   "metadata": {},
   "source": [
    "# Mars Hemispheres"
   ]
  },
  {
   "cell_type": "code",
   "execution_count": 2,
   "metadata": {},
   "outputs": [
    {
     "name": "stderr",
     "output_type": "stream",
     "text": [
      "[WDM] - ====== WebDriver manager ======\n",
      "[WDM] - Current google-chrome version is 89.0.4389\n",
      "[WDM] - Get LATEST driver version for 89.0.4389\n"
     ]
    },
    {
     "name": "stdout",
     "output_type": "stream",
     "text": [
      "\n",
      "\n"
     ]
    },
    {
     "name": "stderr",
     "output_type": "stream",
     "text": [
      "[WDM] - Driver [C:\\Users\\Aaron Karpie\\.wdm\\drivers\\chromedriver\\win32\\89.0.4389.23\\chromedriver.exe] found in cache\n"
     ]
    }
   ],
   "source": [
    "executable_path = {'executable_path': ChromeDriverManager().install()}\n",
    "browser = Browser('chrome', **executable_path, headless=False)"
   ]
  },
  {
   "cell_type": "code",
   "execution_count": null,
   "metadata": {},
   "outputs": [],
   "source": []
  },
  {
   "cell_type": "code",
   "execution_count": 4,
   "metadata": {},
   "outputs": [],
   "source": [
    "url = 'https://astrogeology.usgs.gov/search/results?q=hemisphere+enhanced&k1=target&v1=Mars'\n",
    "base_url=\"https://astrogeology.usgs.gov/\"\n",
    "browser.visit(url)"
   ]
  },
  {
   "cell_type": "code",
   "execution_count": 5,
   "metadata": {},
   "outputs": [],
   "source": [
    "html = browser.html\n",
    "    # Parse HTML with Beautiful Soup\n",
    "soup = BeautifulSoup(html, 'html.parser')"
   ]
  },
  {
   "cell_type": "code",
   "execution_count": null,
   "metadata": {},
   "outputs": [],
   "source": []
  },
  {
   "cell_type": "code",
   "execution_count": 6,
   "metadata": {},
   "outputs": [
    {
     "data": {
      "text/plain": [
       "['Cerberus Hemisphere Enhanced',\n",
       " 'Schiaparelli Hemisphere Enhanced',\n",
       " 'Syrtis Major Hemisphere Enhanced',\n",
       " 'Valles Marineris Hemisphere Enhanced']"
      ]
     },
     "execution_count": 6,
     "metadata": {},
     "output_type": "execute_result"
    }
   ],
   "source": [
    "#Finding Titles \n",
    "image_titles=[]\n",
    "image_urls=[]\n",
    "titles=soup.find_all('div', class_='description')\n",
    "for title in titles: \n",
    "        h3=title.find('h3').text\n",
    "        image_titles.append(h3)\n",
    "        \n",
    "\n",
    "image_titles\n",
    "\n"
   ]
  },
  {
   "cell_type": "code",
   "execution_count": 12,
   "metadata": {},
   "outputs": [
    {
     "name": "stdout",
     "output_type": "stream",
     "text": [
      "/search/map/Mars/Viking/valles_marineris_enhanced\n"
     ]
    },
    {
     "data": {
      "text/plain": [
       "[<div class=\"item\"><a class=\"itemLink product-item\" href=\"/search/map/Mars/Viking/cerberus_enhanced\"><img alt=\"Cerberus Hemisphere Enhanced thumbnail\" class=\"thumb\" src=\"/cache/images/39d3266553462198bd2fbc4d18fbed17_cerberus_enhanced.tif_thumb.png\"/></a><div class=\"description\"><a class=\"itemLink product-item\" href=\"/search/map/Mars/Viking/cerberus_enhanced\"><h3>Cerberus Hemisphere Enhanced</h3></a><span class=\"subtitle\" style=\"float:left\">image/tiff 21 MB</span><span class=\"pubDate\" style=\"float:right\"></span><br/><p>Mosaic of the Cerberus hemisphere of Mars projected into point perspective, a view similar to that which one would see from a spacecraft. This mosaic is composed of 104 Viking Orbiter images acquired…</p></div> <!-- end description --></div>,\n",
       " <div class=\"item\"><a class=\"itemLink product-item\" href=\"/search/map/Mars/Viking/schiaparelli_enhanced\"><img alt=\"Schiaparelli Hemisphere Enhanced thumbnail\" class=\"thumb\" src=\"/cache/images/08eac6e22c07fb1fe72223a79252de20_schiaparelli_enhanced.tif_thumb.png\"/></a><div class=\"description\"><a class=\"itemLink product-item\" href=\"/search/map/Mars/Viking/schiaparelli_enhanced\"><h3>Schiaparelli Hemisphere Enhanced</h3></a><span class=\"subtitle\" style=\"float:left\">image/tiff 35 MB</span><span class=\"pubDate\" style=\"float:right\"></span><br/><p>Mosaic of the Schiaparelli hemisphere of Mars projected into point perspective, a view similar to that which one would see from a spacecraft. The images were acquired in 1980 during early northern…</p></div> <!-- end description --></div>,\n",
       " <div class=\"item\"><a class=\"itemLink product-item\" href=\"/search/map/Mars/Viking/syrtis_major_enhanced\"><img alt=\"Syrtis Major Hemisphere Enhanced thumbnail\" class=\"thumb\" src=\"/cache/images/55a0a1e2796313fdeafb17c35925e8ac_syrtis_major_enhanced.tif_thumb.png\"/></a><div class=\"description\"><a class=\"itemLink product-item\" href=\"/search/map/Mars/Viking/syrtis_major_enhanced\"><h3>Syrtis Major Hemisphere Enhanced</h3></a><span class=\"subtitle\" style=\"float:left\">image/tiff 25 MB</span><span class=\"pubDate\" style=\"float:right\"></span><br/><p>Mosaic of the Syrtis Major hemisphere of Mars projected into point perspective, a view similar to that which one would see from a spacecraft. This mosaic is composed of about 100 red and violet…</p></div> <!-- end description --></div>,\n",
       " <div class=\"item\"><a class=\"itemLink product-item\" href=\"/search/map/Mars/Viking/valles_marineris_enhanced\"><img alt=\"Valles Marineris Hemisphere Enhanced thumbnail\" class=\"thumb\" src=\"/cache/images/4e59980c1c57f89c680c0e1ccabbeff1_valles_marineris_enhanced.tif_thumb.png\"/></a><div class=\"description\"><a class=\"itemLink product-item\" href=\"/search/map/Mars/Viking/valles_marineris_enhanced\"><h3>Valles Marineris Hemisphere Enhanced</h3></a><span class=\"subtitle\" style=\"float:left\">image/tiff 27 MB</span><span class=\"pubDate\" style=\"float:right\"></span><br/><p>Mosaic of the Valles Marineris hemisphere of Mars projected into point perspective, a view similar to that which one would see from a spacecraft. The distance is 2500 kilometers from the surface of…</p></div> <!-- end description --></div>]"
      ]
     },
     "execution_count": 12,
     "metadata": {},
     "output_type": "execute_result"
    }
   ],
   "source": [
    "# Find the partial URL's \n",
    "partial_url=[]\n",
    "items=soup.find_all('div', class_='item')\n",
    "\n",
    "for item in items: \n",
    "    url=item.find('a')\n",
    "    href=url['href']\n",
    "print(href)\n",
    "\n",
    "items"
   ]
  },
  {
   "cell_type": "code",
   "execution_count": 7,
   "metadata": {},
   "outputs": [
    {
     "name": "stderr",
     "output_type": "stream",
     "text": [
      "C:\\Users\\Aaron Karpie\\anaconda3\\lib\\site-packages\\splinter\\driver\\webdriver\\__init__.py:490: FutureWarning: browser.find_link_by_partial_text is deprecated. Use browser.links.find_by_partial_text instead.\n",
      "  warnings.warn(\n"
     ]
    }
   ],
   "source": [
    "browser.click_link_by_partial_text('Cerberus Hemisphere Enhanced')"
   ]
  },
  {
   "cell_type": "code",
   "execution_count": 8,
   "metadata": {},
   "outputs": [],
   "source": [
    "browser.click_link_by_partial_text('Sample')"
   ]
  },
  {
   "cell_type": "code",
   "execution_count": 9,
   "metadata": {},
   "outputs": [
    {
     "data": {
      "text/plain": [
       "[<body id=\"splashy\">\n",
       " <header>\n",
       " <!--\n",
       " \t\t\t<h1>Astrogeology Science Center</h1>\n",
       " -->\n",
       " <a href=\"https://www.usgs.gov/centers/astrogeo-sc\" style=\"float:right;margin-top:10px;\" target=\"_blank\">\n",
       " <img alt=\"USGS: Science for a Changing World\" class=\"logo\" height=\"60\" src=\"/images/usgs_logo_main_2x.png\"/>\n",
       " </a>\n",
       " <a href=\"https://nasa.gov\" style=\"float:right;margin-top:5px;margin-right:20px;\" target=\"_blank\">\n",
       " <img alt=\"NASA\" class=\"logo\" height=\"65\" src=\"/images/logos/nasa-logo-web-med.png\"/>\n",
       " </a>\n",
       " <a href=\"https://www.usgs.gov/centers/astrogeology-science-center/science/pds-cartography-and-imaging-sciences-node-usgs\" style=\"float:right;margin-top:5px;margin-right: 10px;\" target=\"_blank\">\n",
       " <img alt=\"PDS Cartography and Imaging Science Node\" class=\"logo\" height=\"65\" src=\"/images/pds_logo-invisible-web.png\"/>\n",
       " </a>\n",
       " </header>\n",
       " <div class=\"wrapper\">\n",
       " <!--\n",
       " \t\t\t<nav>\n",
       " \t\t\t\t<a id=\"nav-toggle\" href=\"#\" title=\"Navigation Menu\">Menu</a>\n",
       " <ul class=\"dropdown dropdown-horizontal\" id=\"yw0\">\n",
       " <li><a href=\"/\">Home</a></li>\n",
       " <li><a href=\"/about\">About</a>\n",
       " <ul>\n",
       " <li><a href=\"/about/careers\">Careers</a></li>\n",
       " <li><a href=\"/contact\">Contact</a></li>\n",
       " <li><a href=\"/about/events\">Events</a></li>\n",
       " <li><a href=\"/site/glossary\">Glossary</a></li>\n",
       " <li><a href=\"/about/mission\">Mission</a></li>\n",
       " <li><a href=\"/news\">News</a></li>\n",
       " <li><a href=\"/people\">People</a></li>\n",
       " <li><a href=\"/about/using-our-images\">Using Our Images</a></li>\n",
       " <li><a href=\"/about/visitors\">Visitors</a></li>\n",
       " </ul>\n",
       " </li>\n",
       " <li><a href=\"/facilities\">Labs / Facilities</a>\n",
       " <ul>\n",
       " <li><a href=\"/facilities/flynn-creek-crater-sample-collection\">Flynn Creek Crater Sample Collection</a></li>\n",
       " <li><a href=\"http://www.moon-cal.org\">Lunar Calibration Project</a></li>\n",
       " <li><a href=\"/facilities/meteor-crater-sample-collection\">Meteor Crater Sample Collection</a></li>\n",
       " <li><a href=\"/facilities/mrctr\">MRCTR GIS Lab</a></li>\n",
       " <li><a href=\"/facilities/cartography-and-imaging-sciences-node-of-nasa-planetary-data-system\">PDS Cartography and Imaging Sciences Node</a></li>\n",
       " <li><a href=\"/pds/annex\">PDS IMG Annex</a></li>\n",
       " <li><a href=\"/facilities/photogrammetry-guest-facility\">Photogrammetry Guest Facility</a></li>\n",
       " <li><a href=\"/rpif\">Regional Planetary Information Facility (RPIF)</a></li>\n",
       " </ul>\n",
       " </li>\n",
       " <li><a href=\"/maps\">Maps / Products</a>\n",
       " <ul>\n",
       " <li><a href=\"/search\">Product Search</a></li>\n",
       " <li><a href=\"http://planetarynames.wr.usgs.gov\">Gazetteer of Planetary Nomenclature</a></li>\n",
       " <li><a href=\"http://planetarymapping.wr.usgs.gov\">Geologic Mapping Program</a></li>\n",
       " <li><a href=\"http://pilot.wr.usgs.gov\">Planetary Image Locator Tool (PILOT)</a></li>\n",
       " <li><a href=\"/search/planetary-index\">Planetary Map Index</a></li>\n",
       " </ul>\n",
       " </li>\n",
       " <li><a href=\"/geology\">Missions / Research</a>\n",
       " <ul>\n",
       " <li><a href=\"/geology/mars-dunes\">Mars Dunes</a></li>\n",
       " <li><a href=\"/geology/mars-ice\">Mars Ice</a></li>\n",
       " <li><a href=\"/missions\">Mission Support</a></li>\n",
       " <li><a href=\"/solar-system\">Solar System</a></li>\n",
       " <li><a href=\"/groups\">Working Groups</a></li>\n",
       " </ul>\n",
       " </li>\n",
       " <li><a href=\"/tools\">Tools</a>\n",
       " <ul>\n",
       " <li><a href=\"http://planetarynames.wr.usgs.gov\">Gazetteer of Planetary Nomenclature</a></li>\n",
       " <li><a href=\"http://isis.astrogeology.usgs.gov\">Integrated Software for Imagers and Spectrometers (ISIS)</a></li>\n",
       " <li><a href=\"http://astrogeology.usgs.gov/tools/map\">Map a Planet 2</a></li>\n",
       " <li><a href=\"http://pilot.wr.usgs.gov\">Planetary Image Locator Tool (PILOT)</a></li>\n",
       " <li><a href=\"http://astrocloud.wr.usgs.gov/\">Projection on the Web (POW)</a></li>\n",
       " </ul>\n",
       " </li>\n",
       " </ul>\t\t\t\t<form id=\"search\" class=\"search\" action=\"/search/results\" method=\"get\">\n",
       " \t\t\t\t\t<input type=\"submit\" value=\"\" title=\"Search Astropedia\"/>\n",
       " \t\t\t\t\t<input type=\"text\" placeholder=\"Search\" name=\"q\"/>\n",
       " \t\t\t\t</form>\n",
       " \t\t\t</nav>\n",
       " -->\n",
       " <div class=\"container\">\n",
       " <div class=\"widget block bar\">\n",
       " <a href=\"/search\" style=\"float:right;text-decoration:none;\">\n",
       " <img alt=\"Astropedia\" src=\"/images/astropedia/astropedia-logo-main.png\" style=\"width:200px;border:none;float:right;\"/>\n",
       " <div style=\"clear:both;font-size:.8em;float:right;color:#888;\">Lunar and Planetary Cartographic Catalog</div>\n",
       " </a>\n",
       " <div style=\"float:left;height:60px;\">\n",
       " </div>\n",
       " </div>\n",
       " <div class=\"wide-image-wrapper\" id=\"wide-image\">\n",
       " <div class=\"downloads\">\n",
       " <img class=\"thumb\" src=\"/cache/images/39d3266553462198bd2fbc4d18fbed17_cerberus_enhanced.tif_thumb.png\"/>\n",
       " <h3>Download</h3>\n",
       " <ul>\n",
       " <li><a href=\"https://astropedia.astrogeology.usgs.gov/download/Mars/Viking/cerberus_enhanced.tif/full.jpg\" target=\"_blank\">Sample</a> (jpg) 1024px wide</li>\n",
       " <li><a href=\"https://astropedia.astrogeology.usgs.gov/download/Mars/Viking/cerberus_enhanced.tif\" target=\"_blank\">Original</a> (tif<span class=\"tooltip word-tif\" title=\"\"></span>) 21 MB</li>\n",
       " </ul>\n",
       " </div>\n",
       " <img class=\"wide-image\" src=\"/cache/images/f5e372a36edfa389625da6d0cc25d905_cerberus_enhanced.tif_full.jpg\"/>\n",
       " <a class=\"open-toggle\" href=\"#open\" id=\"wide-image-toggle\">Open</a>\n",
       " </div>\n",
       " <div class=\"content\">\n",
       " <section class=\"block metadata\">\n",
       " <!--\n",
       " -->\n",
       " <h2 class=\"title\">Cerberus Hemisphere Enhanced</h2>\n",
       " <p>Mosaic of the Cerberus hemisphere of Mars projected into point perspective, a view similar to that which one would see from a spacecraft. This mosaic is composed of 104 Viking Orbiter images acquired on February 11, 1980. At that time, it was early northern summer on Mars. The center of the image is at latitude 3 degrees, longitude 185 degrees.</p>\n",
       " <dl>\n",
       " <dt>Mimetype</dt>\n",
       " <!--\n",
       " \t\t\t\t<dd><a href=\"/search/results?m=image/tiff\">image/tiff</a></dd>\n",
       " \t\t\t\t   -->\n",
       " <dd>image/tiff</dd>\n",
       " <dt>Filename</dt><dd><a href=\"https://astropedia.astrogeology.usgs.gov/download/Mars/Viking/cerberus_enhanced.tif\">cerberus_enhanced.tif<span class=\"tooltip word-tif\" title=\"\"></span></a></dd><dt>Originator</dt><dd></dd><dt>Group</dt><dd></dd><dt>Added to Astropedia</dt><dd>29 September 2011</dd><dt>Modified</dt><dd>3 November 2017</dd></dl><h2>General</h2><dl><dt>Geospatial Data Presentation Form</dt><dd><a href=\"/search/results?k1=geospatial_data_presentation_form&amp;v1=Global+Mosaic\">Global Mosaic</a></dd></dl><h2>Keywords</h2><dl><dt>Target</dt><dd><a href=\"/search?pmi-target=mars\">Mars</a></dd><dt>Mission</dt><dd><a href=\"/search/results?k1=mission&amp;v1=Viking+Orbiter\">Viking Orbiter</a></dd></dl><h2>Geospatial Information</h2><dl><dt>Quad Name</dt><dd></dd> </dl>\n",
       " </section>\n",
       " </div>\n",
       " <div class=\"sidebar\">\n",
       " <div class=\"block\">\n",
       " <h3 class=\"title\">FGDC: <a download=\"\" href=\"https://astrogeology.usgs.gov/search/map/Mars/Viking/cerberus_enhanced.xml\" id=\"fgdcLink\" style=\"text-decoration:none;\">xml metadata</a></h3>\n",
       " <script>\n",
       "        var currentURL = window.location.href+'.xml';\n",
       "        document.getElementById('fgdcLink').href=currentURL;\n",
       "     </script>\n",
       " </div>\n",
       " <div class=\"block\">\n",
       " <h3 class=\"title\">Related Products</h3>\n",
       " <a class=\"item\" href=\"/search/map/Mars/Viking/valles_marineris_unenhanced\">\n",
       " <img alt=\"Valles Marineris Hemisphere Unenhanced thumbnail\" class=\"thumb description-thumb\" src=\"/cache/images/f789a481f60deaf01996343999491211_valles_marineris_unenhanced.tif_thumb.png\"/>\n",
       " <div class=\"description\">\n",
       " <h3>Valles Marineris Hemisphere Unenhanced</h3>\n",
       " <p>Mosaic of the Valles Marineris hemisphere of Mars projected into…</p>\n",
       " </div>\n",
       " </a>\n",
       " <a class=\"item\" href=\"/search/map/Mars/Viking/valles_marineris_enhanced\">\n",
       " <img alt=\"Valles Marineris Hemisphere Enhanced thumbnail\" class=\"thumb description-thumb\" src=\"/cache/images/4e59980c1c57f89c680c0e1ccabbeff1_valles_marineris_enhanced.tif_thumb.png\"/>\n",
       " <div class=\"description\">\n",
       " <h3>Valles Marineris Hemisphere Enhanced</h3>\n",
       " <p>Mosaic of the Valles Marineris hemisphere of Mars projected into…</p>\n",
       " </div>\n",
       " </a>\n",
       " <a class=\"item\" href=\"/search/map/Mars/Viking/syrtis_major_unenhanced\">\n",
       " <img alt=\"Syrtis Major Hemisphere Unenhanced thumbnail\" class=\"thumb description-thumb\" src=\"/cache/images/79133220f6cb61a5a091ce8ecee3e554_syrtis_major_unenhanced.tif_thumb.png\"/>\n",
       " <div class=\"description\">\n",
       " <h3>Syrtis Major Hemisphere Unenhanced</h3>\n",
       " <p>Mosaic of the Syrtis Major hemisphere of Mars projected into point…</p>\n",
       " </div>\n",
       " </a>\n",
       " <a class=\"item\" href=\"/search/map/Mars/Viking/syrtis_major_enhanced\">\n",
       " <img alt=\"Syrtis Major Hemisphere Enhanced thumbnail\" class=\"thumb description-thumb\" src=\"/cache/images/55a0a1e2796313fdeafb17c35925e8ac_syrtis_major_enhanced.tif_thumb.png\"/>\n",
       " <div class=\"description\">\n",
       " <h3>Syrtis Major Hemisphere Enhanced</h3>\n",
       " <p>Mosaic of the Syrtis Major hemisphere of Mars projected into point…</p>\n",
       " </div>\n",
       " </a>\n",
       " <a class=\"item\" href=\"/search/map/Mars/Viking/schiaparelli_unenhanced\">\n",
       " <img alt=\"Schiaparelli Hemisphere Unenhanced thumbnail\" class=\"thumb description-thumb\" src=\"/cache/images/158e3984b3b1dcdb73f87897a0be0fe6_schiaparelli_unenhanced.tif_thumb.png\"/>\n",
       " <div class=\"description\">\n",
       " <h3>Schiaparelli Hemisphere Unenhanced</h3>\n",
       " <p>Mosaic of the Schiaparelli hemisphere of Mars projected into point…</p>\n",
       " </div>\n",
       " </a>\n",
       " <ul class=\"page-numbers\"><li><a class=\"active\" href=\"/search/map/Mars/Viking/cerberus_enhanced?p=1&amp;pb=1#downloads\">1</a></li><li><a class=\"\" href=\"/search/map/Mars/Viking/cerberus_enhanced?p=2&amp;pb=1#downloads\">2</a></li></ul></div></div>\n",
       " </div>\n",
       " <div class=\"icons projects black scroll-wrapper\">\n",
       " <div class=\"scroll\">\n",
       " <a class=\"icon\" href=\"http://isis.astrogeology.usgs.gov\" title=\"Integrated Software for Imagers and Spectrometers\">\n",
       " <img alt=\"ISIS Logo\" height=\"112\" src=\"/images/logos/isis_2x.jpg\" width=\"112\"/>\n",
       " <span class=\"label\">ISIS</span>\n",
       " </a>\n",
       " <a class=\"icon\" href=\"http://planetarynames.wr.usgs.gov\" title=\"Gazetteer of Planetary Nomenclature\">\n",
       " <img alt=\"Nomenclature Logo\" height=\"112\" src=\"/images/logos/nomenclature_2x.jpg\" width=\"112\"/>\n",
       " <span class=\"label\">Planetary Nomenclature</span>\n",
       " </a>\n",
       " <a class=\"icon\" href=\"https://astrogeology.usgs.gov/tools/map-a-planet-2\" title=\"Map a Planet 2\">\n",
       " <img alt=\"Map-a-Planet Logo\" height=\"112\" src=\"/images/logos/map_a_planet_2x.jpg\" width=\"112\"/>\n",
       " <span class=\"label\">Map a Planet 2</span>\n",
       " </a>\n",
       " <a class=\"icon\" href=\"https://www.usgs.gov/centers/astrogeo-sc/science/cartography-and-imaging-sciences-node-nasa-planetary-data-system\" title=\"PDS Cartography and Imaging Science Node\">\n",
       " <img alt=\"PDS Logo\" height=\"112\" src=\"/images/pds_logo-black-web.png\"/>\n",
       " <span class=\"label\">PDS Cartography and Imaging Science Node</span>\n",
       " </a>\n",
       " <!--\n",
       " \t\t\t\t\t\t<a title=\"Astropedia Search\" href=\"/search\" class=\"icon\">\n",
       " \t\t\t\t\t\t\t<img alt=\"Astropedia Logo\" height=\"112\" width=\"112\" src=\"/images/logos/astropedia_2x.jpg\"/>\n",
       " \t\t\t\t\t\t\t<span class=\"label\">Astropedia</span>\n",
       " \t\t\t\t\t\t</a>\n",
       " -->\n",
       " <a class=\"icon\" href=\"https://www.usgs.gov/centers/astrogeo-sc/science/regional-planetary-image-facility-rpif\" title=\"Regional Planetary Image Facility\">\n",
       " <img alt=\"RPIF Logo\" height=\"112\" src=\"/images/logos/rpif_2x.jpg\" width=\"112\"/>\n",
       " <span class=\"label\">RPIF</span>\n",
       " </a>\n",
       " <a class=\"icon\" href=\"\" title=\"Photogrammetry Guest Facility\">\n",
       " <img alt=\"Photogrammetry Guest Faciltiy Logo\" height=\"112\" src=\"/images/logos/photogrammetry_2x.jpg\" width=\"112\"/>\n",
       " <span class=\"label\">Photogrammetry Guest Facility</span>\n",
       " </a>\n",
       " <a class=\"icon\" href=\"http://pilot.wr.usgs.gov\" title=\"Planetary Image Locator Tool\">\n",
       " <img alt=\"Pilot Logo\" height=\"112\" src=\"/images/logos/pilot_2x.jpg\" width=\"112\"/>\n",
       " <span class=\"label\">PILOT</span>\n",
       " </a>\n",
       " <a class=\"icon\" href=\"https://www.usgs.gov/centers/astrogeo-sc/science/mrctr-gis-lab\" title=\"Mapping, Remote-sensing, Cartography, Technology and Research GIS Lab\">\n",
       " <img alt=\"MRCTR GIS Lab Logo\" height=\"112\" src=\"/images/logos/mrctr_man_2x.png\" width=\"112\"/>\n",
       " <span class=\"label\">MRCTR GIS Lab</span>\n",
       " </a>\n",
       " </div>\n",
       " </div>\n",
       " <footer>\n",
       " <div class=\"left\">\n",
       " <a href=\"./search\">Search</a> |\n",
       " \t\t\t\t\t<a href=\"http://astrogeology.usgs.gov/maps/about\">About</a> |\n",
       " \t\t\t\t\t<a href=\"http://astrogeology.usgs.gov/maps/contact\">Contact</a>\n",
       " </div>\n",
       " <div class=\"right\">\n",
       " <a href=\"https://www.usgs.gov/centers/astrogeo-sc\">USGS Astrogeology Science Center</a>\n",
       " </div>\n",
       " </footer>\n",
       " </div>\n",
       " <!--\n",
       " \t\t<div class=\"credit\">\n",
       " \t\t\t<small>Background Credits: NASA/USGS</small>\n",
       " \t\t</div>\n",
       " -->\n",
       " <div class=\"page-background\" style=\"\n",
       " \t\t\tbackground:url('/images/backgrounds/mars.jpg');\n",
       " \t\t\tfilter:progid:DXImageTransform.Microsoft.AlphaImageLoader(\n",
       " \t\t\t\tsrc='/images/backgrounds/mars.jpg', sizingMethod='scale');\n",
       " \t\t\"></div>\n",
       " <script type=\"text/javascript\">\n",
       " var baseUrl = \"\";\n",
       " \n",
       " /*\n",
       " var _gaq = _gaq || [];_gaq.push(['_setAccount', 'UA-27613186-1']);_gaq.push(['_trackPageview']);(function() { var ga = document.createElement('script'); ga.type = 'text/javascript'; ga.async = true;ga.src = ('https:' == document.location.protocol ? 'https://ssl' : 'http://www') + '.google-analytics.com/ga.js'; var s = document.getElementsByTagName('script')[0]; s.parentNode.insertBefore(ga, s);})();\n",
       " */\n",
       " \t\t</script>\n",
       " <script src=\"https://ajax.googleapis.com/ajax/libs/jquery/1.11.1/jquery.min.js\" type=\"text/javascript\"></script>\n",
       " <script src=\"//ajax.googleapis.com/ajax/libs/jqueryui/1.11.4/jquery-ui.min.js\" type=\"text/javascript\"></script>\n",
       " <script src=\"https://astropedia.astrogeology.usgs.gov/downloadWeb/dynamic/glossary.js\" type=\"text/javascript\"></script>\n",
       " <script src=\"/js/astro-tips.js\" type=\"text/javascript\"></script>\n",
       " <script src=\"/js/general.js\" type=\"text/javascript\"></script>\n",
       " <script type=\"text/javascript\">\n",
       " /*<![CDATA[*/\n",
       " showTooltips(\".downloads, .content dl, .listing\", true);\n",
       " /*]]>*/\n",
       " </script><div aria-live=\"assertive\" aria-relevant=\"additions\" class=\"ui-helper-hidden-accessible\" role=\"log\"></div><div aria-live=\"assertive\" aria-relevant=\"additions\" class=\"ui-helper-hidden-accessible\" role=\"log\"></div>\n",
       " </body>]"
      ]
     },
     "execution_count": 9,
     "metadata": {},
     "output_type": "execute_result"
    }
   ],
   "source": [
    "html = browser.html\n",
    "    # Parse HTML with Beautiful Soup\n",
    "soup = BeautifulSoup(html, 'html.parser')\n",
    "\n",
    "\n",
    "\n",
    "results=soup.find_all('body')\n",
    "results"
   ]
  },
  {
   "cell_type": "code",
   "execution_count": null,
   "metadata": {},
   "outputs": [],
   "source": []
  },
  {
   "cell_type": "code",
   "execution_count": null,
   "metadata": {},
   "outputs": [],
   "source": []
  },
  {
   "cell_type": "code",
   "execution_count": null,
   "metadata": {},
   "outputs": [],
   "source": []
  }
 ],
 "metadata": {
  "kernelspec": {
   "display_name": "Python 3",
   "language": "python",
   "name": "python3"
  },
  "language_info": {
   "codemirror_mode": {
    "name": "ipython",
    "version": 3
   },
   "file_extension": ".py",
   "mimetype": "text/x-python",
   "name": "python",
   "nbconvert_exporter": "python",
   "pygments_lexer": "ipython3",
   "version": "3.8.5"
  }
 },
 "nbformat": 4,
 "nbformat_minor": 4
}
